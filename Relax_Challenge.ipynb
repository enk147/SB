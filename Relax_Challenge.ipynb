{
 "cells": [
  {
   "cell_type": "markdown",
   "id": "11b1de37",
   "metadata": {},
   "source": [
    "# Relax Challenge - Data Science Interview"
   ]
  },
  {
   "cell_type": "code",
   "execution_count": 1,
   "id": "f750ceed",
   "metadata": {},
   "outputs": [],
   "source": [
    "#imports\n",
    "import pandas as pd\n",
    "import matplotlib.pyplot as plt\n",
    "import seaborn as sns\n",
    "from datetime import datetime as dt\n",
    "from sklearn.model_selection import train_test_split\n",
    "from sklearn.tree import DecisionTreeClassifier\n",
    "from sklearn.metrics import accuracy_score"
   ]
  },
  {
   "cell_type": "code",
   "execution_count": 2,
   "id": "4813d87c",
   "metadata": {},
   "outputs": [],
   "source": [
    "#load engagement data\n",
    "eng = pd.read_csv('takehome_user_engagement.csv')"
   ]
  },
  {
   "cell_type": "code",
   "execution_count": 3,
   "id": "496b1b9f",
   "metadata": {},
   "outputs": [
    {
     "data": {
      "text/html": [
       "<div>\n",
       "<style scoped>\n",
       "    .dataframe tbody tr th:only-of-type {\n",
       "        vertical-align: middle;\n",
       "    }\n",
       "\n",
       "    .dataframe tbody tr th {\n",
       "        vertical-align: top;\n",
       "    }\n",
       "\n",
       "    .dataframe thead th {\n",
       "        text-align: right;\n",
       "    }\n",
       "</style>\n",
       "<table border=\"1\" class=\"dataframe\">\n",
       "  <thead>\n",
       "    <tr style=\"text-align: right;\">\n",
       "      <th></th>\n",
       "      <th>time_stamp</th>\n",
       "      <th>user_id</th>\n",
       "      <th>visited</th>\n",
       "    </tr>\n",
       "  </thead>\n",
       "  <tbody>\n",
       "    <tr>\n",
       "      <th>0</th>\n",
       "      <td>2014-04-22 03:53:30</td>\n",
       "      <td>1</td>\n",
       "      <td>1</td>\n",
       "    </tr>\n",
       "    <tr>\n",
       "      <th>1</th>\n",
       "      <td>2013-11-15 03:45:04</td>\n",
       "      <td>2</td>\n",
       "      <td>1</td>\n",
       "    </tr>\n",
       "    <tr>\n",
       "      <th>2</th>\n",
       "      <td>2013-11-29 03:45:04</td>\n",
       "      <td>2</td>\n",
       "      <td>1</td>\n",
       "    </tr>\n",
       "    <tr>\n",
       "      <th>3</th>\n",
       "      <td>2013-12-09 03:45:04</td>\n",
       "      <td>2</td>\n",
       "      <td>1</td>\n",
       "    </tr>\n",
       "    <tr>\n",
       "      <th>4</th>\n",
       "      <td>2013-12-25 03:45:04</td>\n",
       "      <td>2</td>\n",
       "      <td>1</td>\n",
       "    </tr>\n",
       "  </tbody>\n",
       "</table>\n",
       "</div>"
      ],
      "text/plain": [
       "            time_stamp  user_id  visited\n",
       "0  2014-04-22 03:53:30        1        1\n",
       "1  2013-11-15 03:45:04        2        1\n",
       "2  2013-11-29 03:45:04        2        1\n",
       "3  2013-12-09 03:45:04        2        1\n",
       "4  2013-12-25 03:45:04        2        1"
      ]
     },
     "execution_count": 3,
     "metadata": {},
     "output_type": "execute_result"
    }
   ],
   "source": [
    "#check engagement\n",
    "eng.head()"
   ]
  },
  {
   "cell_type": "code",
   "execution_count": 4,
   "id": "30e56904",
   "metadata": {},
   "outputs": [
    {
     "data": {
      "text/plain": [
       "time_stamp    object\n",
       "user_id        int64\n",
       "visited        int64\n",
       "dtype: object"
      ]
     },
     "execution_count": 4,
     "metadata": {},
     "output_type": "execute_result"
    }
   ],
   "source": [
    "#check data types\n",
    "eng.dtypes"
   ]
  },
  {
   "cell_type": "code",
   "execution_count": 5,
   "id": "f932e3ac",
   "metadata": {},
   "outputs": [],
   "source": [
    "#create date column\n",
    "eng['time_stamp'] = pd.to_datetime(eng['time_stamp'])\n",
    "eng['date'] = eng.time_stamp.dt.floor('D')\n",
    "eng_cleaned = eng.drop(columns=['time_stamp'])"
   ]
  },
  {
   "cell_type": "code",
   "execution_count": 6,
   "id": "4a8a85c9",
   "metadata": {},
   "outputs": [],
   "source": [
    "#create 7 day rolling visit count\n",
    "eng_cleaned['visit_7d'] = eng_cleaned.sort_values(by=['date']).groupby(['user_id'])['visited'].rolling(3, min_periods = 1).sum().reset_index(drop=True, level=0)"
   ]
  },
  {
   "cell_type": "code",
   "execution_count": 7,
   "id": "06892ebf",
   "metadata": {},
   "outputs": [],
   "source": [
    "#create 2 visits later date column\n",
    "eng_cleaned['two_visits_later'] = eng_cleaned.sort_values(by=['date']).groupby(['user_id'])['date'].shift(-2)"
   ]
  },
  {
   "cell_type": "code",
   "execution_count": 8,
   "id": "16815e1b",
   "metadata": {},
   "outputs": [],
   "source": [
    "#calculate difference between first and third visit\n",
    "eng_cleaned['day_diff'] = (eng_cleaned.two_visits_later - eng_cleaned.date).dt.days"
   ]
  },
  {
   "cell_type": "code",
   "execution_count": 9,
   "id": "779214c7",
   "metadata": {},
   "outputs": [],
   "source": [
    "#create adopted boolean\n",
    "eng_cleaned['adopted'] = eng_cleaned.day_diff.apply(lambda x: True if x <=7 else False)"
   ]
  },
  {
   "cell_type": "code",
   "execution_count": 10,
   "id": "3bc0f1b4",
   "metadata": {},
   "outputs": [],
   "source": [
    "#create merge table\n",
    "eng_merge = pd.DataFrame(eng_cleaned.groupby(['user_id'])['adopted'].sum().apply(lambda x: True if x >0 else False))"
   ]
  },
  {
   "cell_type": "code",
   "execution_count": 11,
   "id": "b433af2b",
   "metadata": {},
   "outputs": [],
   "source": [
    "#load user data\n",
    "users = pd.read_csv('takehome_users.csv', encoding='latin-1')"
   ]
  },
  {
   "cell_type": "code",
   "execution_count": 12,
   "id": "401595b3",
   "metadata": {},
   "outputs": [],
   "source": [
    "#create join key\n",
    "users = users.rename(columns={'object_id':'user_id'})"
   ]
  },
  {
   "cell_type": "code",
   "execution_count": 13,
   "id": "e95d334f",
   "metadata": {},
   "outputs": [],
   "source": [
    "#join dataframes\n",
    "df = users.merge(eng_merge, on='user_id')"
   ]
  },
  {
   "cell_type": "code",
   "execution_count": 14,
   "id": "45811198",
   "metadata": {},
   "outputs": [
    {
     "data": {
      "text/html": [
       "<div>\n",
       "<style scoped>\n",
       "    .dataframe tbody tr th:only-of-type {\n",
       "        vertical-align: middle;\n",
       "    }\n",
       "\n",
       "    .dataframe tbody tr th {\n",
       "        vertical-align: top;\n",
       "    }\n",
       "\n",
       "    .dataframe thead th {\n",
       "        text-align: right;\n",
       "    }\n",
       "</style>\n",
       "<table border=\"1\" class=\"dataframe\">\n",
       "  <thead>\n",
       "    <tr style=\"text-align: right;\">\n",
       "      <th></th>\n",
       "      <th>user_id</th>\n",
       "      <th>creation_time</th>\n",
       "      <th>name</th>\n",
       "      <th>email</th>\n",
       "      <th>creation_source</th>\n",
       "      <th>last_session_creation_time</th>\n",
       "      <th>opted_in_to_mailing_list</th>\n",
       "      <th>enabled_for_marketing_drip</th>\n",
       "      <th>org_id</th>\n",
       "      <th>invited_by_user_id</th>\n",
       "      <th>adopted</th>\n",
       "    </tr>\n",
       "  </thead>\n",
       "  <tbody>\n",
       "    <tr>\n",
       "      <th>0</th>\n",
       "      <td>1</td>\n",
       "      <td>2014-04-22 03:53:30</td>\n",
       "      <td>Clausen August</td>\n",
       "      <td>AugustCClausen@yahoo.com</td>\n",
       "      <td>GUEST_INVITE</td>\n",
       "      <td>1.398139e+09</td>\n",
       "      <td>1</td>\n",
       "      <td>0</td>\n",
       "      <td>11</td>\n",
       "      <td>10803.0</td>\n",
       "      <td>False</td>\n",
       "    </tr>\n",
       "    <tr>\n",
       "      <th>1</th>\n",
       "      <td>2</td>\n",
       "      <td>2013-11-15 03:45:04</td>\n",
       "      <td>Poole Matthew</td>\n",
       "      <td>MatthewPoole@gustr.com</td>\n",
       "      <td>ORG_INVITE</td>\n",
       "      <td>1.396238e+09</td>\n",
       "      <td>0</td>\n",
       "      <td>0</td>\n",
       "      <td>1</td>\n",
       "      <td>316.0</td>\n",
       "      <td>True</td>\n",
       "    </tr>\n",
       "    <tr>\n",
       "      <th>2</th>\n",
       "      <td>3</td>\n",
       "      <td>2013-03-19 23:14:52</td>\n",
       "      <td>Bottrill Mitchell</td>\n",
       "      <td>MitchellBottrill@gustr.com</td>\n",
       "      <td>ORG_INVITE</td>\n",
       "      <td>1.363735e+09</td>\n",
       "      <td>0</td>\n",
       "      <td>0</td>\n",
       "      <td>94</td>\n",
       "      <td>1525.0</td>\n",
       "      <td>False</td>\n",
       "    </tr>\n",
       "    <tr>\n",
       "      <th>3</th>\n",
       "      <td>4</td>\n",
       "      <td>2013-05-21 08:09:28</td>\n",
       "      <td>Clausen Nicklas</td>\n",
       "      <td>NicklasSClausen@yahoo.com</td>\n",
       "      <td>GUEST_INVITE</td>\n",
       "      <td>1.369210e+09</td>\n",
       "      <td>0</td>\n",
       "      <td>0</td>\n",
       "      <td>1</td>\n",
       "      <td>5151.0</td>\n",
       "      <td>False</td>\n",
       "    </tr>\n",
       "    <tr>\n",
       "      <th>4</th>\n",
       "      <td>5</td>\n",
       "      <td>2013-01-17 10:14:20</td>\n",
       "      <td>Raw Grace</td>\n",
       "      <td>GraceRaw@yahoo.com</td>\n",
       "      <td>GUEST_INVITE</td>\n",
       "      <td>1.358850e+09</td>\n",
       "      <td>0</td>\n",
       "      <td>0</td>\n",
       "      <td>193</td>\n",
       "      <td>5240.0</td>\n",
       "      <td>False</td>\n",
       "    </tr>\n",
       "  </tbody>\n",
       "</table>\n",
       "</div>"
      ],
      "text/plain": [
       "   user_id        creation_time               name  \\\n",
       "0        1  2014-04-22 03:53:30     Clausen August   \n",
       "1        2  2013-11-15 03:45:04      Poole Matthew   \n",
       "2        3  2013-03-19 23:14:52  Bottrill Mitchell   \n",
       "3        4  2013-05-21 08:09:28    Clausen Nicklas   \n",
       "4        5  2013-01-17 10:14:20          Raw Grace   \n",
       "\n",
       "                        email creation_source  last_session_creation_time  \\\n",
       "0    AugustCClausen@yahoo.com    GUEST_INVITE                1.398139e+09   \n",
       "1      MatthewPoole@gustr.com      ORG_INVITE                1.396238e+09   \n",
       "2  MitchellBottrill@gustr.com      ORG_INVITE                1.363735e+09   \n",
       "3   NicklasSClausen@yahoo.com    GUEST_INVITE                1.369210e+09   \n",
       "4          GraceRaw@yahoo.com    GUEST_INVITE                1.358850e+09   \n",
       "\n",
       "   opted_in_to_mailing_list  enabled_for_marketing_drip  org_id  \\\n",
       "0                         1                           0      11   \n",
       "1                         0                           0       1   \n",
       "2                         0                           0      94   \n",
       "3                         0                           0       1   \n",
       "4                         0                           0     193   \n",
       "\n",
       "   invited_by_user_id  adopted  \n",
       "0             10803.0    False  \n",
       "1               316.0     True  \n",
       "2              1525.0    False  \n",
       "3              5151.0    False  \n",
       "4              5240.0    False  "
      ]
     },
     "execution_count": 14,
     "metadata": {},
     "output_type": "execute_result"
    }
   ],
   "source": [
    "#check join\n",
    "df.head()"
   ]
  },
  {
   "cell_type": "code",
   "execution_count": 15,
   "id": "a7b6ecbf",
   "metadata": {},
   "outputs": [
    {
     "data": {
      "text/plain": [
       "0"
      ]
     },
     "execution_count": 15,
     "metadata": {},
     "output_type": "execute_result"
    }
   ],
   "source": [
    "#check for duplicates\n",
    "df.duplicated().sum()"
   ]
  },
  {
   "cell_type": "code",
   "execution_count": 16,
   "id": "465ed717",
   "metadata": {},
   "outputs": [
    {
     "data": {
      "text/plain": [
       "user_id                          0\n",
       "creation_time                    0\n",
       "name                             0\n",
       "email                            0\n",
       "creation_source                  0\n",
       "last_session_creation_time       0\n",
       "opted_in_to_mailing_list         0\n",
       "enabled_for_marketing_drip       0\n",
       "org_id                           0\n",
       "invited_by_user_id            4047\n",
       "adopted                          0\n",
       "dtype: int64"
      ]
     },
     "execution_count": 16,
     "metadata": {},
     "output_type": "execute_result"
    }
   ],
   "source": [
    "#check for null values\n",
    "df.isnull().sum()"
   ]
  },
  {
   "cell_type": "code",
   "execution_count": 17,
   "id": "b4807f56",
   "metadata": {},
   "outputs": [],
   "source": [
    "#create boolean for if user was invited by another user\n",
    "df['invited_by_user'] =  df.invited_by_user_id.notnull().astype('int')\n",
    "\n",
    "#drop redundant/irrelevant columns\n",
    "df.drop(columns=['invited_by_user_id', 'name', 'last_session_creation_time'], inplace=True)"
   ]
  },
  {
   "cell_type": "code",
   "execution_count": 18,
   "id": "7b14282d",
   "metadata": {},
   "outputs": [
    {
     "name": "stdout",
     "output_type": "stream",
     "text": [
      "number of users:  8823\n",
      "number of adopted users:  1656\n",
      "percent of users who adopted:  18.769126147568855\n"
     ]
    }
   ],
   "source": [
    "#number of unique users\n",
    "num_users = df.user_id.nunique()\n",
    "print('number of users: ', num_users)\n",
    "\n",
    "#number of adopted user\n",
    "num_adopted = df.adopted.sum()\n",
    "print('number of adopted users: ', num_adopted)\n",
    "\n",
    "#percent adoption\n",
    "perc_adopted = num_adopted / num_users * 100\n",
    "print('percent of users who adopted: ', perc_adopted)"
   ]
  },
  {
   "cell_type": "code",
   "execution_count": 19,
   "id": "97ef62be",
   "metadata": {},
   "outputs": [
    {
     "data": {
      "image/png": "[encoded data removed]",
      "text/plain": [
       "<Figure size 786.35x360 with 1 Axes>"
      ]
     },
     "metadata": {},
     "output_type": "display_data"
    }
   ],
   "source": [
    "#plot creation source by adoption\n",
    "sns.set(style='darkgrid', palette='colorblind')\n",
    "sns.catplot(data=df, x='creation_source', kind='count', aspect=2, hue='adopted')\n",
    "plt.xlabel('Creation source')\n",
    "plt.ylabel('Count')\n",
    "plt.show()"
   ]
  },
  {
   "cell_type": "code",
   "execution_count": 20,
   "id": "18ed5445",
   "metadata": {},
   "outputs": [],
   "source": [
    "#change date types\n",
    "df.creation_time = pd.to_datetime(df.creation_time).dt.date"
   ]
  },
  {
   "cell_type": "code",
   "execution_count": 21,
   "id": "cd38967c",
   "metadata": {},
   "outputs": [],
   "source": [
    "#change other columns\n",
    "df = df.astype({'org_id': 'object'})\n",
    "df.set_index('user_id', inplace=True)"
   ]
  },
  {
   "cell_type": "code",
   "execution_count": 22,
   "id": "3893b008",
   "metadata": {},
   "outputs": [
    {
     "name": "stdout",
     "output_type": "stream",
     "text": [
      "top email: \n",
      "gmail.com         2930\n",
      "yahoo.com         1726\n",
      "jourrapide.com     883\n",
      "gustr.com          842\n",
      "cuvox.de           828\n",
      "hotmail.com        803\n",
      "luque.com            2\n",
      "mumdc.com            2\n",
      "oqpze.com            2\n",
      "xybhi.com            2\n",
      "Name: email, dtype: int64\n"
     ]
    }
   ],
   "source": [
    "#check email\n",
    "df.email = df.email.apply(lambda x: x.split('@')[1])\n",
    "print('top email: ')\n",
    "print(df.email.value_counts().head(10))"
   ]
  },
  {
   "cell_type": "code",
   "execution_count": 23,
   "id": "165e7417",
   "metadata": {
    "scrolled": true
   },
   "outputs": [
    {
     "data": {
      "image/png": "[encoded data removed]",
      "text/plain": [
       "<Figure size 786.35x360 with 1 Axes>"
      ]
     },
     "metadata": {},
     "output_type": "display_data"
    }
   ],
   "source": [
    "#plot mailing list opt in distribution by adoption\n",
    "sns.catplot(data=df, x='opted_in_to_mailing_list', kind='count', aspect=2, hue='adopted')\n",
    "plt.xlabel('Opted into mailing list')\n",
    "plt.ylabel('Count')\n",
    "plt.show()"
   ]
  },
  {
   "cell_type": "code",
   "execution_count": 24,
   "id": "0cc91963",
   "metadata": {},
   "outputs": [
    {
     "data": {
      "image/png": "[encoded data removed]",
      "text/plain": [
       "<Figure size 786.35x360 with 1 Axes>"
      ]
     },
     "metadata": {},
     "output_type": "display_data"
    }
   ],
   "source": [
    "#plot marketing drip enabled distribution by adoption\n",
    "sns.catplot(data=df, x='enabled_for_marketing_drip', kind='count', aspect=2, hue='adopted')\n",
    "plt.xlabel('Enabled for marketing drip')\n",
    "plt.ylabel('Count')\n",
    "plt.show()"
   ]
  },
  {
   "cell_type": "code",
   "execution_count": 25,
   "id": "371e99e6",
   "metadata": {},
   "outputs": [],
   "source": [
    "#one hot encode categorical features\n",
    "cat = df.select_dtypes(['object']).columns\n",
    "df = pd.get_dummies(df, columns=cat)"
   ]
  },
  {
   "cell_type": "code",
   "execution_count": 26,
   "id": "6b1de425",
   "metadata": {},
   "outputs": [],
   "source": [
    "#split target variable\n",
    "y = df.adopted\n",
    "X = df.drop('adopted', axis=1)"
   ]
  },
  {
   "cell_type": "code",
   "execution_count": 27,
   "id": "3dd400c5",
   "metadata": {},
   "outputs": [],
   "source": [
    "#split train test sets\n",
    "X_train, X_test, y_train, y_test = train_test_split(X, y, test_size=0.3, random_state=14)"
   ]
  },
  {
   "cell_type": "code",
   "execution_count": 28,
   "id": "8f1c5e14",
   "metadata": {},
   "outputs": [
    {
     "data": {
      "text/plain": [
       "DecisionTreeClassifier(max_depth=20, random_state=14)"
      ]
     },
     "execution_count": 28,
     "metadata": {},
     "output_type": "execute_result"
    }
   ],
   "source": [
    "#instantiate and fit decision tree classifier \n",
    "dtc = DecisionTreeClassifier(max_depth=20, random_state=14)\n",
    "dtc.fit(X_train, y_train)"
   ]
  },
  {
   "cell_type": "code",
   "execution_count": 29,
   "id": "be44810c",
   "metadata": {},
   "outputs": [
    {
     "name": "stdout",
     "output_type": "stream",
     "text": [
      "training accuracy:  0.8320919689119171\n",
      "testing accuracy:  0.8182848507744617\n"
     ]
    }
   ],
   "source": [
    "#make predictions and score accuracy\n",
    "train_pred = dtc.predict(X_train)\n",
    "test_pred = dtc.predict(X_test)\n",
    "train_accuracy = accuracy_score(y_train, train_pred)\n",
    "test_accuracy = accuracy_score(y_test, test_pred)\n",
    "print('training accuracy: ', train_accuracy)\n",
    "print('testing accuracy: ', test_accuracy)"
   ]
  },
  {
   "cell_type": "code",
   "execution_count": 30,
   "id": "76a4edc3",
   "metadata": {},
   "outputs": [
    {
     "name": "stdout",
     "output_type": "stream",
     "text": [
      "                                feature  importance\n",
      "249            creation_time_2013-02-01    0.034803\n",
      "1545       creation_source_GUEST_INVITE    0.030351\n",
      "1547  creation_source_PERSONAL_PROJECTS    0.025627\n",
      "964                   email_hotmail.com    0.024372\n",
      "130            creation_time_2012-10-05    0.023880\n"
     ]
    }
   ],
   "source": [
    "#list most important features\n",
    "feature_imps = pd.DataFrame(zip(X.columns, dtc.feature_importances_), columns=['feature','importance'])\n",
    "print(feature_imps.sort_values(by='importance',ascending=False).head(5))"
   ]
  },
  {
   "cell_type": "markdown",
   "id": "2b8f2f35",
   "metadata": {},
   "source": [
    "### Findings:\n",
    "* Of the 8223 users, 1656 'adopted' (logged in at least 3 times in some 7 day period), a 18.8% conversion\n",
    "* The most important features are listed above, including two creation sources: Guest Invite and Personal Projects\n",
    "* More research can be done into acquisition campaigns corresponding to the creation time dates\n",
    "* The company can look into the organizations corresponding to the ids for inroads to new users\n",
    "\n",
    "### Notes:\n",
    "* A Decision Tree Classifier was used for visibility into feature importances and strong performance in modeling (around 82% accuracy)\n"
   ]
  },
  {
   "cell_type": "code",
   "execution_count": null,
   "id": "ea78d8c3",
   "metadata": {},
   "outputs": [],
   "source": []
  }
 ],
 "metadata": {
  "kernelspec": {
   "display_name": "Python 3 (ipykernel)",
   "language": "python",
   "name": "python3"
  },
  "language_info": {
   "codemirror_mode": {
    "name": "ipython",
    "version": 3
   },
   "file_extension": ".py",
   "mimetype": "text/x-python",
   "name": "python",
   "nbconvert_exporter": "python",
   "pygments_lexer": "ipython3",
   "version": "3.9.7"
  }
 },
 "nbformat": 4,
 "nbformat_minor": 5
}
